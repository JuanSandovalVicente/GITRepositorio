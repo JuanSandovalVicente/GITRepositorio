{
 "cells": [
  {
   "cell_type": "markdown",
   "metadata": {},
   "source": [
    "# 2. Lematización:\n",
    "\n",
    "La lematización es el proceso de reducir una palabra a su forma base o lema,  \n",
    "que es la forma que encontraríamos en un diccionario.  \n",
    "La lematización considera el contexto de la palabra y su significado.  \n",
    "\n",
    "Ejemplo en Python con NLTK:\n",
    "\n",
    "Explicación:\n",
    "\n",
    "WordNetLemmatizer() realiza la lematización.  \n",
    "El argumento pos='v' especifica que las palabras se tratan como verbos.  \n",
    "'n': Sustantivo (noun).  \n",
    "'v': Verbo (verb).  \n",
    "'a': Adjetivo (adjective).  \n",
    "'r': Adverbio (adverb).  \n",
    "\n",
    "Es importante especificar la parte del discurso (part-of-speech, POS)  \n",
    "para una lematización más precisa. Si no se especifica, por defecto asume que es un sustantivo.\n",
    "\n",
    "La lematización es como un detective inteligente que entiende el contexto.  \n",
    "Para que la lematización funcione bien, es importante darle pistas,  \n",
    "como la parte del discurso (pos='v', pos='n', pos='a', etc.),  \n",
    "para que pueda consultar su diccionario correctamente y encontrar el verdadero lema de la palabra.  \n",
    "De esta manera, nuestro análisis del lenguaje será mucho más preciso y efectivo."
   ]
  },
  {
   "cell_type": "code",
   "execution_count": 1,
   "metadata": {},
   "outputs": [
    {
     "name": "stderr",
     "output_type": "stream",
     "text": [
      "[nltk_data] Downloading package wordnet to\n",
      "[nltk_data]     C:\\Users\\juans\\AppData\\Roaming\\nltk_data...\n",
      "[nltk_data]   Package wordnet is already up-to-date!\n",
      "[nltk_data] Downloading package omw-1.4 to\n",
      "[nltk_data]     C:\\Users\\juans\\AppData\\Roaming\\nltk_data...\n",
      "[nltk_data]   Package omw-1.4 is already up-to-date!\n"
     ]
    },
    {
     "name": "stdout",
     "output_type": "stream",
     "text": [
      "Lema de 'corriendo': corriendo\n",
      "Lema de 'corrió': corrió\n",
      "Lema de 'corre': corre\n",
      "Lema de 'mejor': mejor\n"
     ]
    }
   ],
   "source": [
    "import nltk\n",
    "from nltk.stem import WordNetLemmatizer\n",
    "\n",
    "nltk.download('wordnet')\n",
    "nltk.download('omw-1.4') # Necesario para lematizar en español\n",
    "\n",
    "lemmatizer = WordNetLemmatizer() #realiza la lematización.\n",
    "\n",
    "palabras = [\"corriendo\", \"corrió\", \"corre\", \"mejor\"]\n",
    "\n",
    "for palabra in palabras:\n",
    "    lema = lemmatizer.lemmatize(palabra, pos='v') # El argumento pos='v' Especificar la parte del discurso (verbo en este caso)\n",
    "    print(f\"Lema de '{palabra}': {lema}\")"
   ]
  },
  {
   "cell_type": "code",
   "execution_count": 2,
   "metadata": {},
   "outputs": [
    {
     "name": "stdout",
     "output_type": "stream",
     "text": [
      "--Word--            --Lemma--           \n",
      "program             program             \n",
      "programming         program             \n",
      "programs            program             \n",
      "programmed          program             \n"
     ]
    }
   ],
   "source": [
    "from nltk.stem import WordNetLemmatizer\n",
    "#nltk.download(\"wordnet\")\n",
    "#nltk.download(\"omw-1.4\")\n",
    "\n",
    "# Initialize wordnet lemmatizer\n",
    "wnl = WordNetLemmatizer()\n",
    "\n",
    "# Example inflections to reduce\n",
    "example_words = [\"program\",\"programming\",\"programs\",\"programmed\"]\n",
    "\n",
    "# Perform lemmatization\n",
    "print(\"{0:20}{1:20}\".format(\"--Word--\",\"--Lemma--\"))\n",
    "for word in example_words:\n",
    "   print (\"{0:20}{1:20}\".format(word, wnl.lemmatize(word, pos=\"v\")))"
   ]
  },
  {
   "cell_type": "markdown",
   "metadata": {},
   "source": [
    "### Algunos casos comunes donde la lematización es especialmente útil:\n",
    "\n",
    "## 1. Motores de búsqueda y recuperación de información:\n",
    "\n",
    "**1.1 Mejora la precisión de las búsquedas:** Cuando un usuario realiza una búsqueda, es posible que utilice diferentes formas de una misma palabra. Por ejemplo, podría buscar \"corriendo\", \"corrió\" o \"correr\". Sin lematización, el motor de búsqueda podría tratar estas palabras como distintas y no devolver todos los resultados relevantes. Al lematizar las palabras a su forma base (\"correr\"), el motor de búsqueda puede encontrar todos los documentos que contienen cualquiera de estas formas.\n",
    "\n",
    "**1.2 Reduce el tamaño del índice:** Al almacenar solo los lemas en el índice del motor de búsqueda, se reduce la cantidad de entradas y se mejora la eficiencia de las búsquedas.  \n",
    "\n",
    "## 2. Análisis de sentimiento:  \n",
    "**2.1 Agrupa palabras con el mismo significado:** En el análisis de sentimiento, se busca determinar la polaridad (positiva, negativa o neutra) de un texto.  \n",
    "La lematización ayuda a agrupar palabras con el mismo significado, aunque tengan diferentes formas.  \n",
    "Por ejemplo, \"bueno\", \"buena\", \"buenos\" y \"buenas\" se lematizarían a \"bueno\", lo que permite un análisis más preciso del sentimiento expresado.  \n",
    "\n",
    "## 3. Clasificación de texto:  \n",
    "\n",
    "**3.1 Reduce la dimensionalidad de los datos:** Al reducir las palabras a sus lemas,  \n",
    "se reduce la cantidad de características únicas que se utilizan para entrenar un modelo de clasificación de texto.  \n",
    "Esto puede mejorar el rendimiento del modelo y reducir el tiempo de entrenamiento.  \n",
    "\n",
    "**3.2 Mejora la generalización del modelo:** Al agrupar palabras con el mismo significado,  \n",
    "el modelo puede generalizar mejor a nuevos textos que contengan variaciones de esas palabras.\n",
    "\n",
    "**4. Minería de texto y extracción de información:**\n",
    "\n",
    "**4.1 Identifica conceptos clave:** La lematización ayuda a identificar los conceptos clave en un texto  \n",
    "al agrupar palabras relacionadas.  \n",
    "Por ejemplo, en un texto sobre \"entrenamiento de perros\", la lematización agruparía palabras  \n",
    "como \"entrenar\", \"entrenamiento\", \"entrenado\" y \"entrenadora\" bajo el lema \"entrenar\".  \n",
    "\n",
    "**4.2 Mejora la precisión de la extracción de entidades:** Al lematizar las palabras, se pueden extraer entidades de manera más precisa,  \n",
    "incluso si aparecen en diferentes formas gramaticales.  \n",
    "\n",
    "## 5. Traducción automática:  \n",
    "\n",
    "**5.1 Mejora la calidad de la traducción:** La lematización puede ayudar a mejorar la calidad de la traducción automática  \n",
    "    al identificar la forma base de las palabras y traducirlas correctamente al idioma de destino.\n",
    "\n",
    "## 6. Chatbots y asistentes virtuales:\n",
    "\n",
    "**6.1 Comprende mejor las consultas de los usuarios:** Al lematizar las palabras en las consultas de los usuarios,  \n",
    "los chatbots y asistentes virtuales pueden comprender mejor la intención del usuario, incluso si utiliza diferentes formas de una misma palabra."
   ]
  },
  {
   "cell_type": "markdown",
   "metadata": {},
   "source": []
  }
 ],
 "metadata": {
  "kernelspec": {
   "display_name": ".venv",
   "language": "python",
   "name": "python3"
  },
  "language_info": {
   "codemirror_mode": {
    "name": "ipython",
    "version": 3
   },
   "file_extension": ".py",
   "mimetype": "text/x-python",
   "name": "python",
   "nbconvert_exporter": "python",
   "pygments_lexer": "ipython3",
   "version": "3.13.1"
  }
 },
 "nbformat": 4,
 "nbformat_minor": 2
}
