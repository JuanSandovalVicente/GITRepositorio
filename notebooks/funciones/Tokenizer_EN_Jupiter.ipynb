{
 "cells": [
  {
   "cell_type": "code",
   "execution_count": 6,
   "id": "b417fa33-f21e-43f2-b659-5715afbd7d8d",
   "metadata": {},
   "outputs": [
    {
     "name": "stdout",
     "output_type": "stream",
     "text": [
      "Tokens de palabras: ['Este', 'es', 'un', 'ejemplo', '.', '¡Hola', 'mundo', '!', '¿Cómo', 'estás', '?']\n",
      "Tokens de oraciones: ['Este es un ejemplo.', '¡Hola mundo!', '¿Cómo estás?']\n"
     ]
    },
    {
     "name": "stderr",
     "output_type": "stream",
     "text": [
      "[nltk_data] Downloading package punkt to\n",
      "[nltk_data]     C:\\Users\\juans\\AppData\\Roaming\\nltk_data...\n",
      "[nltk_data]   Package punkt is already up-to-date!\n"
     ]
    }
   ],
   "source": [
    "import nltk\n",
    "from nltk.tokenize import word_tokenize, sent_tokenize\n",
    "\n",
    "nltk.download('punkt')  # Descargar recursos necesarios para la tokenización\n",
    "\n",
    "texto = \"Este es un ejemplo. ¡Hola mundo! ¿Cómo estás?\"\n",
    "\n",
    "# Tokenización de palabras\n",
    "tokens_palabras = word_tokenize(texto)\n",
    "print(\"Tokens de palabras:\", tokens_palabras)\n",
    "\n",
    "# Tokenización de oraciones\n",
    "tokens_oraciones = sent_tokenize(texto)\n",
    "print(\"Tokens de oraciones:\", tokens_oraciones)"
   ]
  },
  {
   "cell_type": "code",
   "execution_count": null,
   "id": "13546e44-dbe7-419e-8c29-a852cf1e5f72",
   "metadata": {},
   "outputs": [],
   "source": []
  },
  {
   "cell_type": "code",
   "execution_count": null,
   "id": "5eab65e8-1aad-4959-b219-03092bf9da9a",
   "metadata": {},
   "outputs": [],
   "source": []
  }
 ],
 "metadata": {
  "kernelspec": {
   "display_name": "Python 3 (ipykernel)",
   "language": "python",
   "name": "python3"
  },
  "language_info": {
   "codemirror_mode": {
    "name": "ipython",
    "version": 3
   },
   "file_extension": ".py",
   "mimetype": "text/x-python",
   "name": "python",
   "nbconvert_exporter": "python",
   "pygments_lexer": "ipython3",
   "version": "3.11.7"
  }
 },
 "nbformat": 4,
 "nbformat_minor": 5
}
