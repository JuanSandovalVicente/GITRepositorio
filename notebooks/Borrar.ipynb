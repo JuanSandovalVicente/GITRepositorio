{
 "cells": [
  {
   "cell_type": "markdown",
   "metadata": {},
   "source": [
    "# 1. Variables y Tipos de Datos Básicos\n",
    " Variables: En Python, las variables se crean al asignarles un valor. \n",
    "            No necesitas declarar el tipo de dato explícitamente."
   ]
  },
  {
   "cell_type": "code",
   "execution_count": null,
   "metadata": {},
   "outputs": [],
   "source": [
    "# para comentarios de una sola línea usar signo (#)\n",
    "# Para comentarios de varias líneas usar 3 comillas dobles ( \" )\n",
    "\n",
    "nombre = \"Juan\"  # Cadena (string)\n",
    "edad = 40       # Entero (integer)\n",
    "altura = 1.75   # Flotante (float)\n",
    "es_estudiante = True  # Booleano (boolean)\n",
    "\n",
    "# usando f-string\n",
    "print(\"usando f-string\")\n",
    "print(f\"La variable nombre es de tipo: {type(nombre)}\")\n",
    "print(f\"La variable edad es de tipo: {type(edad)}\")\n",
    "print(f\"La variable altura es de tipo: {type(altura)}\")\n",
    "print(f\"La variable es_estudiante es de tipo: {type(es_estudiante)}\")\n",
    "\n",
    "print(\"\")\n",
    "# Si solo necesitas el nombre del tipo como una cadena\n",
    "print(\"Si solo necesitas el nombre del tipo como una cadena\")\n",
    "print(f\"El tipo de nombre es: {type(nombre).__name__}\")\n",
    "print(f\"El tipo de edad es: {type(edad).__name__}\")\n",
    "print(f\"El tipo de altura es: {type(altura).__name__}\")\n",
    "print(f\"El tipo de es_estudiante es: {type(es_estudiante).__name__}\")\n",
    "\n",
    "\"\"\"\n",
    "Esta línea imprime el nombre del tipo de la variable nombre. \n",
    "Por ejemplo, si nombre es una cadena, imprimirá \"str\"; \n",
    "si es un entero, imprimirá \"int\"; \n",
    "si es una instancia de una clase Persona, imprimirá \"Persona\".\n",
    "\"\"\"\n"
   ]
  }
 ],
 "metadata": {
  "language_info": {
   "name": "python"
  }
 },
 "nbformat": 4,
 "nbformat_minor": 2
}
